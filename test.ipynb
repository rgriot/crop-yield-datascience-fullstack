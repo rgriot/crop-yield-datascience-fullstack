{
 "cells": [
  {
   "cell_type": "code",
   "execution_count": null,
   "id": "f3d15449",
   "metadata": {},
   "outputs": [],
   "source": [
    "from data_engineering.etl.etls.fao import fao_country_crop_yield_csv_etl, fao_country_crop_yield_sql_etl\n",
    "from data_engineering.etl.etls.country_boundaries import country_boundaries_csv_etl, country_boundaries_sql_etl\n",
    "\n",
    "import logging\n",
    "import sys\n",
    "\n",
    "logging.basicConfig(format='%(asctime)s | %(levelname)s : %(message)s',\n",
    "                     level=logging.INFO, stream=sys.stdout)"
   ]
  },
  {
   "cell_type": "code",
   "execution_count": null,
   "id": "e02c051d",
   "metadata": {},
   "outputs": [],
   "source": [
    "fao_country_crop_yield_sql_etl.process()"
   ]
  },
  {
   "cell_type": "code",
   "execution_count": null,
   "id": "4068ff9b",
   "metadata": {},
   "outputs": [],
   "source": [
    "country_boundaries_sql_etl.process()"
   ]
  },
  {
   "cell_type": "code",
   "execution_count": 1,
   "id": "6b6fd314",
   "metadata": {},
   "outputs": [],
   "source": [
    "from database.models import CountryBoudaries\n",
    "from database.engine import engine\n",
    "from sqlalchemy.orm import Session\n",
    "\n",
    "from shapely.wkb import loads as load_wkb"
   ]
  },
  {
   "cell_type": "code",
   "execution_count": 2,
   "id": "6d152d8f",
   "metadata": {},
   "outputs": [
    {
     "name": "stdout",
     "output_type": "stream",
     "text": [
      "2025-05-18 12:40:39,204 INFO sqlalchemy.engine.Engine select pg_catalog.version()\n",
      "2025-05-18 12:40:39,204 INFO sqlalchemy.engine.Engine [raw sql] {}\n",
      "2025-05-18 12:40:39,204 INFO sqlalchemy.engine.Engine select current_schema()\n",
      "2025-05-18 12:40:39,204 INFO sqlalchemy.engine.Engine [raw sql] {}\n",
      "2025-05-18 12:40:39,204 INFO sqlalchemy.engine.Engine show standard_conforming_strings\n",
      "2025-05-18 12:40:39,204 INFO sqlalchemy.engine.Engine [raw sql] {}\n",
      "2025-05-18 12:40:39,204 INFO sqlalchemy.engine.Engine BEGIN (implicit)\n",
      "2025-05-18 12:40:39,204 INFO sqlalchemy.engine.Engine SELECT natural_earth_country_boundaries.id AS natural_earth_country_boundaries_id, natural_earth_country_boundaries.country_name AS natural_earth_country_boundaries_country_name, natural_earth_country_boundaries.country_iso3_id AS natural_earth_country_boundaries_country_iso3_id, ST_AsEWKB(natural_earth_country_boundaries.geometry) AS natural_earth_country_boundaries_geometry \n",
      "FROM natural_earth_country_boundaries\n",
      "2025-05-18 12:40:39,204 INFO sqlalchemy.engine.Engine [generated in 0.00056s] {}\n"
     ]
    }
   ],
   "source": [
    "session = Session(engine)\n",
    "instances = list(session.query(CountryBoudaries))"
   ]
  },
  {
   "cell_type": "code",
   "execution_count": 3,
   "id": "166b97da",
   "metadata": {},
   "outputs": [],
   "source": [
    "from data_engineering.etl.etls.nasa_power import nasa_power_csv_etl"
   ]
  },
  {
   "cell_type": "code",
   "execution_count": 4,
   "id": "76035f92",
   "metadata": {},
   "outputs": [
    {
     "data": {
      "text/plain": [
       "'Western Sahara'"
      ]
     },
     "execution_count": 4,
     "metadata": {},
     "output_type": "execute_result"
    }
   ],
   "source": [
    "nasa_power_csv_etl.country = instances[2]\n",
    "instances[2].country_name"
   ]
  },
  {
   "cell_type": "code",
   "execution_count": 5,
   "id": "c706b841",
   "metadata": {},
   "outputs": [],
   "source": [
    "nasa_power_csv_etl.process()"
   ]
  },
  {
   "cell_type": "code",
   "execution_count": null,
   "id": "1d9c6834",
   "metadata": {},
   "outputs": [],
   "source": []
  }
 ],
 "metadata": {
  "kernelspec": {
   "display_name": "crop-yield-datascience-fullstack-5Q99oN4B-py3.10",
   "language": "python",
   "name": "python3"
  },
  "language_info": {
   "codemirror_mode": {
    "name": "ipython",
    "version": 3
   },
   "file_extension": ".py",
   "mimetype": "text/x-python",
   "name": "python",
   "nbconvert_exporter": "python",
   "pygments_lexer": "ipython3",
   "version": "3.10.4"
  }
 },
 "nbformat": 4,
 "nbformat_minor": 5
}
